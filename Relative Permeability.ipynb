{
 "cells": [
  {
   "cell_type": "markdown",
   "metadata": {},
   "source": [
    "# Calculation of Relative Permeability"
   ]
  },
  {
   "cell_type": "markdown",
   "metadata": {},
   "source": [
    "Estimation of relative permeability is of high importance in studying multiphase flow through porous media. In this example, we will find the relative permeabilities of fluids during a drainage process. In order to find the relative permeability, we first apply an Invasion Percolation algorithm to understand the behaviour of fluid flow and the saturation distribution of the fluids (which are also called Phases). In the presence of experimental drainage data the capillary pressure curve generated in invasion percolation algorithm can be considered as a validation parameter."
   ]
  },
  {
   "cell_type": "code",
   "execution_count": 23,
   "metadata": {},
   "outputs": [],
   "source": [
    "import openpnm as op\n",
    "import numpy as np\n",
    "import matplotlib.pyplot as plt"
   ]
  },
  {
   "cell_type": "markdown",
   "metadata": {},
   "source": [
    "## Network and Geometry"
   ]
  },
  {
   "cell_type": "code",
   "execution_count": 24,
   "metadata": {},
   "outputs": [],
   "source": [
    "pn = op.network.Cubic(shape=[25, 25, 25], spacing=0.00006)\n",
    "geom = op.geometry.StickAndBall(network=pn, pores=pn['pore.all'], throats=pn['throat.all'])"
   ]
  },
  {
   "cell_type": "markdown",
   "metadata": {},
   "source": [
    "## Phases and Physics"
   ]
  },
  {
   "cell_type": "markdown",
   "metadata": {},
   "source": [
    "OpenPNM has its predifined phases so that user can use the phases which have already assigned properties. GenericPhase also allows the user to define a generic phase and assign the properties afterwards. Here for the drainage process, we assume oil as the non-wetting fluid and water as the wetting phase."
   ]
  },
  {
   "cell_type": "code",
   "execution_count": 25,
   "metadata": {},
   "outputs": [],
   "source": [
    "oil = op.phases.GenericPhase(network=pn)\n",
    "water = op.phases.GenericPhase(network=pn)\n",
    "oil['pore.viscosity']=0.000547\n",
    "oil['throat.contact_angle'] =170\n",
    "oil['throat.surface_tension'] = 0.072\n",
    "oil['pore.surface_tension']=0.000072\n",
    "oil['pore.contact_angle']=170\n",
    "water['throat.contact_angle'] = 10\n",
    "water['pore.contact_angle'] = 10\n",
    "water['throat.surface_tension'] = 0.0000483\n",
    "water['pore.surface_tension'] = 0.0483\n",
    "water['pore.viscosity']=0.0004554"
   ]
  },
  {
   "cell_type": "code",
   "execution_count": 26,
   "metadata": {},
   "outputs": [],
   "source": [
    "phys_water= op.physics.GenericPhysics(network=pn, phase=water, geometry=geom)\n",
    "phys_oil = op.physics.GenericPhysics(network=pn, phase=oil, geometry=geom)\n",
    "mod = op.models.physics.hydraulic_conductance.hagen_poiseuille\n",
    "phys_oil.add_model(propname='throat.hydraulic_conductance',\n",
    "                              model=mod)\n",
    "phys_oil.add_model(propname='throat.entry_pressure',\n",
    "                              model=op.models.physics.capillary_pressure.washburn)\n",
    "phys_water.add_model(propname='throat.hydraulic_conductance',\n",
    "                              model=mod)\n",
    "phys_water.add_model(propname='throat.entry_pressure',\n",
    "                              model=op.models.physics.capillary_pressure.washburn)"
   ]
  },
  {
   "cell_type": "markdown",
   "metadata": {},
   "source": [
    "## Invasion Percolation Algorithm for Drainage"
   ]
  },
  {
   "cell_type": "markdown",
   "metadata": {},
   "source": [
    "We are using [Invasion Percolation](https://openpnm.readthedocs.io/en/master/userguide/algorithms/percolation.html#invasion-percolation) for the Drainage process.\n",
    "\n",
    "A network in the percolation theory is represented by sites and bonds, the analogy of which are pores and throats in pore network modeling. Based on the fact that which media governs the fluid flow, we can define two mechanisms as bond and site percolation. A site mechanism indicates a process in which each site can be \"open\" or \"close\". Open sites can convey the phase of interest (e.g. electricity, fluid, bacteria). Here, open sites are open to [invading fluid](https://www.crcpress.com/Applications-Of-Percolation-Theory/Sahini-Sahimi/p/book/9780748400768). \n",
    "\n",
    "In drainage process, where throats govern the flow, open pores are large and they convey the non-wetting phase. The idea is when the applied pressure reaches greater than the throat entry pressure, it flows through the throat. Recalling the fact that each throat has equal or smaller size of its both pores, the fluid can then enter the pores. Here, large pores do not provide problem as long as the applied pressure is high enough (at least equal to throat entry pressure which is always lower or equal to pore entry pressure) and the process is controlled by smaller medium [throats](http://www.geomatejournal.com/node/1007). \n",
    "\n",
    "The Invasion Percolation Algorithm in openpnm basically is a bond percolation mechanism. In order to enjoy both site and bond mechanism a Mixed Invasion Percolation module is provided in openpnm. Here, we get the results of inv algorithm and plot the Pc-S curve with a couple of simple commands. The idea is the IP returns occupancy of each pore and throat at any user defined saturation for invading phase. For an arbitrary range of saturation in the range of [0,1] once we find the capillary pressure, the intrusion curve is found. For each saturation the highest entry pressure among the invaded pores indicates the capillary pressure at that saturation. The follwing script shows the procedure:"
   ]
  },
  {
   "cell_type": "code",
   "execution_count": 27,
   "metadata": {},
   "outputs": [
    {
     "data": {
      "image/png": "[encoded data removed]",
      "text/plain": [
       "<Figure size 432x288 with 1 Axes>"
      ]
     },
     "metadata": {
      "needs_background": "light"
     },
     "output_type": "display_data"
    }
   ],
   "source": [
    "inv=op.algorithms.InvasionPercolation(phase=oil,network=pn)\n",
    "inv.setup(phase=oil,entry_pressure='throat.entry_pressure',pore_volume='pore.volume', throat_volume='throat.volume')\n",
    "inlets = pn.pores(['top'])\n",
    "used_inlets = [inlets[x] for x in range(0, len(inlets), 2)]\n",
    "inv.set_inlets(pores=used_inlets)\n",
    "inv.run()\n",
    "Snwparr =  []\n",
    "Pcarr =  []\n",
    "Sarr=np.linspace(0,1,num=20)\n",
    "for Snw in Sarr:\n",
    "    res1=inv.results(Snwp=Snw)\n",
    "    occ_ts=res1['throat.occupancy']\n",
    "    if np.any(occ_ts):\n",
    "        max_pthroat=np.max(phys_oil['throat.entry_pressure'][occ_ts])\n",
    "        Pcarr.append(max_pthroat)\n",
    "        Snwparr.append(Snw)\n",
    "Sat=np.array(Snwparr[:])\n",
    "Pc=np.array(Pcarr[:])\n",
    "plt.figure(1)\n",
    "plt.plot(Pc, Sat)\n",
    "plt.xlabel('Capillary Pressure')\n",
    "plt.ylabel('Invading Phase Saturation')\n",
    "plt.grid(True)"
   ]
  },
  {
   "cell_type": "markdown",
   "metadata": {},
   "source": [
    "## Permeability Calculation Algorithm"
   ]
  },
  {
   "cell_type": "markdown",
   "metadata": {},
   "source": [
    "The StokesFlow class is for simulation of viscous flow. In this class default property names will be set. The main role of this class would be calculation of the hydraulic permeability. Having its effective permeability calculation method, it can deal with nonuniform medias.\n",
    "\n",
    "We first find single phase permeability where the stokes flow is implemented for each phase as if it is the only phase flowing through the porous media. Theis is done as the conductance is the hydraulic conductance. Otherwise, it will change to multiphase conduit conductance. Note that we have defined perm_water and perm_oil in a dictionary so that we have a permeability tensor (directional permeability).\n",
    "-For the permeability calculation, we need to set inlets and outlets of the media, both of which can be defined by introducing some pores as boundary surface pores.\n",
    "\n",
    "As we have mentioned the permeability will be a tensor, which represents $K_x,K_y,K_z$. Permeability tensor plays an important role in anisotropic medias charactarization. We have defined relative permeabilities in 1 direction. It can be adjusted for three dimensions defining a dictionary."
   ]
  },
  {
   "cell_type": "code",
   "execution_count": 29,
   "metadata": {},
   "outputs": [],
   "source": [
    "[amax, bmax, cmax] = np.max(pn['pore.coords'], axis=0)\n",
    "[amin, bmin, cmin] = np.min(pn['pore.coords'], axis=0)\n",
    "lx = amax-amin\n",
    "ly = bmax-bmin\n",
    "lz = cmax-cmin\n",
    "da = lx*ly\n",
    "dl = lz\n",
    "\n",
    "def top_b(lx,ly,lz):\n",
    "    da = lx*ly\n",
    "    dl = lz\n",
    "    res_2=[da,dl]\n",
    "    return res_2\n",
    "\n",
    "[da, dl]= top_b(lx,ly,lz)\n",
    "BC1_pores = pn.pores(labels='top')\n",
    "BC2_pores = pn.pores(labels='bottom')\n",
    "# single phase water permeability\n",
    "Stokes_sp_w = op.algorithms.StokesFlow(network=pn, phase=water)\n",
    "Stokes_sp_w.setup(conductance='throat.hydraulic_conductance')\n",
    "Stokes_sp_w._set_BC(pores=BC1_pores, bctype='value', bcvalues=1)\n",
    "Stokes_sp_w._set_BC(pores=BC2_pores, bctype='value', bcvalues=0)\n",
    "Stokes_sp_w.run()\n",
    "K_sp_w = Stokes_sp_w.calc_effective_permeability(domain_area=da, domain_length=dl)\n",
    "# single phase oil permeability\n",
    "Stokes_sp_o = op.algorithms.StokesFlow(network=pn, phase=oil)\n",
    "Stokes_sp_o.setup(conductance='throat.hydraulic_conductance')\n",
    "Stokes_sp_o._set_BC(pores=BC1_pores, bctype='value', bcvalues=1)\n",
    "Stokes_sp_o._set_BC(pores=BC2_pores, bctype='value', bcvalues=0)\n",
    "Stokes_sp_o.run()\n",
    "K_sp_o = Stokes_sp_o.calc_effective_permeability(domain_area=da, domain_length=dl)"
   ]
  },
  {
   "cell_type": "markdown",
   "metadata": {},
   "source": [
    "## Relative Permeability Calculation Algorithm"
   ]
  },
  {
   "cell_type": "markdown",
   "metadata": {},
   "source": [
    "In order to find the relative permeability of oil and water, we use stokes algorithm which calculates the effective permeability of the media. The trick is if we find the effective permeability of a single phase and find its effective permeability in multiphase condition, the ratio of multiphase to single phase property gives us the relative property, here the relative permeability. The multiphase parameters (here the conduit hydraulic conductance) change as the occupancy changes. Therefore at each increment of the invasion, we have to update some properties of physics and phase model then apply the fluid flow algorithm with updated values of models. \n",
    "\n",
    "The follwing code is the function for updating the physics."
   ]
  },
  {
   "cell_type": "code",
   "execution_count": 30,
   "metadata": {},
   "outputs": [],
   "source": [
    "def update_phase_and_phys(results):\n",
    "    oil['pore.occupancy'] = results['pore.occupancy']\n",
    "    water['pore.occupancy'] = 1-results['pore.occupancy']\n",
    "    oil['throat.occupancy'] = results['throat.occupancy']\n",
    "    water['throat.occupancy'] = 1-results['throat.occupancy']\n",
    "    # adding multiphase conductances\n",
    "    mode='strict'\n",
    "    phys_water.add_model(model=op.models.physics.multiphase.conduit_conductance,\n",
    "                       propname='throat.conduit_hydraulic_conductance',\n",
    "                       throat_conductance='throat.hydraulic_conductance',\n",
    "                       mode=mode)\n",
    "    phys_oil.add_model(model=op.models.physics.multiphase.conduit_conductance,\n",
    "                         propname='throat.conduit_hydraulic_conductance',\n",
    "                         throat_conductance='throat.hydraulic_conductance',\n",
    "                         mode=mode)"
   ]
  },
  {
   "cell_type": "markdown",
   "metadata": {},
   "source": [
    "The following loop is related to the relative permeability calculation. We implement stokes flow algorithm considering the fact that the other phase is also existed in the pores. The existance of other phase will affect the conductance area of the pores and throats. Considering the phase ocuppancy, we use 'throat.conduit_hydraulic_conductance' for the calculation of the permeability of the phase in a multiphase flow problem. The ratio of this effective permeability to the absolute permeability (given in the previous step) gives the relative permeability of that phase."
   ]
  },
  {
   "cell_type": "code",
   "execution_count": 31,
   "metadata": {},
   "outputs": [
    {
     "name": "stdout",
     "output_type": "stream",
     "text": [
      "Sat is equal to 0.05263157894736842\n",
      "Sat is equal to 0.10526315789473684\n",
      "Sat is equal to 0.15789473684210525\n",
      "Sat is equal to 0.21052631578947367\n",
      "Sat is equal to 0.2631578947368421\n",
      "Sat is equal to 0.3157894736842105\n",
      "Sat is equal to 0.3684210526315789\n",
      "Sat is equal to 0.42105263157894735\n",
      "Sat is equal to 0.47368421052631576\n",
      "Sat is equal to 0.5263157894736842\n",
      "Sat is equal to 0.5789473684210527\n",
      "Sat is equal to 0.631578947368421\n",
      "Sat is equal to 0.6842105263157894\n",
      "Sat is equal to 0.7368421052631579\n",
      "Sat is equal to 0.7894736842105263\n",
      "Sat is equal to 0.8421052631578947\n",
      "Sat is equal to 0.894736842105263\n",
      "Sat is equal to 0.9473684210526315\n",
      "Sat is equal to 1.0\n"
     ]
    }
   ],
   "source": [
    "K_rel_w=[]\n",
    "K_rel_o=[]\n",
    "for Sp in Sat:\n",
    "    update_phase_and_phys(inv.results(Snwp=Sp))\n",
    "    print('Sat is equal to', Sp)\n",
    "    # Multiphase flow\n",
    "    # water\n",
    "    Stokes_mp_w = op.algorithms.StokesFlow(network=pn,phase=water)\n",
    "    Stokes_mp_w.setup(conductance='throat.conduit_hydraulic_conductance')\n",
    "    Stokes_mp_w.set_value_BC(values=1, pores=BC1_pores)\n",
    "    Stokes_mp_w.set_value_BC(values=0, pores=BC2_pores)\n",
    "    # oil\n",
    "    Stokes_mp_o = op.algorithms.StokesFlow(network=pn,phase=oil)\n",
    "    Stokes_mp_o.setup(conductance='throat.conduit_hydraulic_conductance')\n",
    "    Stokes_mp_o.set_value_BC(values=1, pores=BC1_pores)\n",
    "    Stokes_mp_o.set_value_BC(values=0, pores=BC2_pores)\n",
    "    # Find Multiphase effective permeability\n",
    "    Stokes_mp_w.run()\n",
    "    K_mp_w = Stokes_mp_w.calc_effective_permeability(domain_area=da, domain_length=dl)\n",
    "    Stokes_mp_o.run()\n",
    "    K_mp_o = Stokes_mp_o.calc_effective_permeability(domain_area=da, domain_length=dl)\n",
    "    # Calculate relative effective permeability for the saturation point Sp\n",
    "    Kr_eff_w = K_mp_w/K_sp_w\n",
    "    Kr_eff_o = K_mp_o/K_sp_o\n",
    "    # Add K_rel to the relative permeability array which is considered to be an array\n",
    "    # of relative permeabilities corresponding to saturation points in Sat\n",
    "    K_rel_w.append(Kr_eff_w)\n",
    "    K_rel_o.append(Kr_eff_o)"
   ]
  },
  {
   "cell_type": "code",
   "execution_count": 32,
   "metadata": {},
   "outputs": [
    {
     "data": {
      "text/plain": [
       "[<matplotlib.lines.Line2D at 0x28a92f2ce48>]"
      ]
     },
     "execution_count": 32,
     "metadata": {},
     "output_type": "execute_result"
    },
    {
     "data": {
      "image/png": "[encoded data removed]",
      "text/plain": [
       "<Figure size 432x288 with 1 Axes>"
      ]
     },
     "metadata": {
      "needs_background": "light"
     },
     "output_type": "display_data"
    }
   ],
   "source": [
    "plt.figure(2)\n",
    "plt.plot(Sat, K_rel_w,'b')\n",
    "plt.xlabel('Invading Phase Saturation')\n",
    "plt.ylabel('Relative Permeability')\n",
    "plt.plot(Sat, K_rel_o,'r')"
   ]
  }
 ],
 "metadata": {
  "kernelspec": {
   "display_name": "Python 3",
   "language": "python",
   "name": "python3"
  },
  "language_info": {
   "codemirror_mode": {
    "name": "ipython",
    "version": 3
   },
   "file_extension": ".py",
   "mimetype": "text/x-python",
   "name": "python",
   "nbconvert_exporter": "python",
   "pygments_lexer": "ipython3",
   "version": "3.7.0"
  }
 },
 "nbformat": 4,
 "nbformat_minor": 2
}
