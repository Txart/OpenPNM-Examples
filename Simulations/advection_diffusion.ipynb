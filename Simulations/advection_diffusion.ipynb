{
 "cells": [
  {
   "cell_type": "code",
   "execution_count": 94,
   "metadata": {},
   "outputs": [],
   "source": [
    "import os\n",
    "os.sys.path.append(\"C:\\\\Users\\\\amin\\\\Documents\\\\Repos\\\\OpenPNM\")"
   ]
  },
  {
   "cell_type": "markdown",
   "metadata": {},
   "source": [
    "# Summary\n",
    "One of the main applications of `OpenPNM` is simulating transport phenomena such as Fickian diffusion, advection diffusion, reactive transport, etc. In this example, we will learn how to perform advection diffusion on a `Cubic` network. The algorithm works fine with every other network type, but for now we want to keep it simple. In `OpenPNM`, we've implemented 4 different discretization schemes for the advection diffusion:\n",
    "\n",
    "1. Upwind\n",
    "2. Hybrid\n",
    "3. Powerlaw\n",
    "4. Exact\n",
    "\n",
    "Depending on the Peclet regime, the results you get from these schemes might differ. To be on the safe side, either use `Powerlaw` or the `Exact` scheme."
   ]
  },
  {
   "cell_type": "markdown",
   "metadata": {},
   "source": [
    "# Problem setup\n",
    "## Generating network\n",
    "First, we need to generate a `Cubic` network. For now, we stick to a 2d network, but you might as well try it in 3d!"
   ]
  },
  {
   "cell_type": "code",
   "execution_count": 95,
   "metadata": {},
   "outputs": [],
   "source": [
    "import openpnm as op\n",
    "net = op.network.Cubic(shape=[1, 10, 10], spacing=1e-4)"
   ]
  },
  {
   "cell_type": "markdown",
   "metadata": {},
   "source": [
    "## Adding geometry\n",
    "Next, we need to add a geometry to the generated network. A geometry contains information about size of the pores/throats in a network. `OpenPNM` has tons of prebuilt geometries that represent the microstructure of different materials such as Toray090 carbon papers, sand stone, electrospun fibers, etc. For now, we stick to a sample geometry called `StickAndBall` that assigns random values to pore/throat diameters."
   ]
  },
  {
   "cell_type": "code",
   "execution_count": 96,
   "metadata": {},
   "outputs": [],
   "source": [
    "geom = op.geometry.StickAndBall(network=net, pores=net.Ps, throats=net.Ts)"
   ]
  },
  {
   "cell_type": "markdown",
   "metadata": {},
   "source": [
    "## Adding phase\n",
    "Next, we need to add a phase to our simulation. A phase object(s) contain(s) thermophysical information about the working fluid(s) in the simulation. `OpenPNM` has tons of prebuilt phases as well! For this simulation, we use air as our working fluid."
   ]
  },
  {
   "cell_type": "code",
   "execution_count": 97,
   "metadata": {},
   "outputs": [],
   "source": [
    "air = op.phases.Air(network=net)"
   ]
  },
  {
   "cell_type": "markdown",
   "metadata": {},
   "source": [
    "## Adding physics\n",
    "Finally, we need to add a physics. A physics object contains information about the working fluid in the simulation that depend on the geometry of the network. A good example is diffusive conductance, which not only depends on the thermophysical properties of the working fluid, but also depends on the geometry of pores/throats."
   ]
  },
  {
   "cell_type": "code",
   "execution_count": 98,
   "metadata": {},
   "outputs": [
    {
     "name": "stderr",
     "output_type": "stream",
     "text": [
      "2018-07-17 13:18:32,991 | WARNING  | root._regen | throat.entry_pressure was not run since the following properties are missing: ['pore.surface_tension', 'throat.diameter']\n",
      "2018-07-17 13:18:32,997 | WARNING  | root._regen | throat.electrical_conductance was not run since the following properties are missing: ['pore.electrical_conductivity', 'throat.electrical_conductivity', 'throat.equivalent_area', 'throat.conduit_lengths']\n"
     ]
    }
   ],
   "source": [
    "phys_air = op.physics.Standard(network=net, phase=air, geometry=geom)"
   ]
  },
  {
   "cell_type": "markdown",
   "metadata": {},
   "source": [
    "# Performing Stokes flow"
   ]
  },
  {
   "cell_type": "markdown",
   "metadata": {},
   "source": [
    "Note that the advection diffusion algorithm assumes that velocity field is given. Naturally, we solve Stokes flow inside a pore network model to obtain the pressure field, and eventually the velocity field. Therefore, we need to run the `StokesFlow` algorithm prior to running our advection diffusion. There's a separate tutorial on how to run `StokesFlow` in `OpenPNM`, but here's a simple code snippet that does the job for us."
   ]
  },
  {
   "cell_type": "code",
   "execution_count": 99,
   "metadata": {},
   "outputs": [],
   "source": [
    "sf = op.algorithms.StokesFlow(network=net, phase=air)\n",
    "sf.set_value_BC(pores=net.pores('left'), values=200.0)\n",
    "sf.set_value_BC(pores=net.pores('right'), values=0.0)\n",
    "sf.run();"
   ]
  },
  {
   "cell_type": "markdown",
   "metadata": {},
   "source": [
    "It is essential that you attach the results from `StokesFlow` (i.e. pressure field) to the corresponding phase, since the results from any algorithm in `OpenPNM` are by default only attached to the algorithm object (in this case to `sf`). Here's how you can update your phase:"
   ]
  },
  {
   "cell_type": "code",
   "execution_count": 100,
   "metadata": {},
   "outputs": [],
   "source": [
    "air.update(sf.results())"
   ]
  },
  {
   "cell_type": "markdown",
   "metadata": {},
   "source": [
    "# Performing advection diffusion"
   ]
  },
  {
   "cell_type": "markdown",
   "metadata": {},
   "source": [
    "Now that everything's set up, it's time to perform our advection diffusion simulation. For this purpose, we need to add corresponding algorithm to our simulation. As mentioned above, `OpenPNM` supports 4 different discretizations, 3 of which are encapsulated in `AdvectionDiffusion` and the one based on the exact solution is located in `Dispersion`. First let's use `AdvectionDiffusion`:"
   ]
  },
  {
   "cell_type": "code",
   "execution_count": 101,
   "metadata": {},
   "outputs": [],
   "source": [
    "ad = op.algorithms.AdvectionDiffusion(network=net, phase=air)"
   ]
  },
  {
   "cell_type": "markdown",
   "metadata": {},
   "source": [
    "Note that `network` and `phase` are required parameters for pretty much every algorithm we add, since we need to specify on which network and for which phase do we want to run the algorithm."
   ]
  },
  {
   "cell_type": "markdown",
   "metadata": {},
   "source": [
    "So far, we haven't mentioned how you specify the discretization. You can specify the discretization by modifying the `settings` of our `AdvectionDiffusion` algorithm. You can choose between `upwind`, `hybrid` and `powerlaw`."
   ]
  },
  {
   "cell_type": "code",
   "execution_count": 102,
   "metadata": {},
   "outputs": [],
   "source": [
    "ad.settings.update({'s_scheme': 'powerlaw'})"
   ]
  },
  {
   "cell_type": "markdown",
   "metadata": {},
   "source": [
    "## Adding boundary conditions\n",
    "Next, we need to add some boundary conditions to the simulation. By default, `OpenPNM` assumes zero flux for the boundary pores."
   ]
  },
  {
   "cell_type": "code",
   "execution_count": 103,
   "metadata": {},
   "outputs": [],
   "source": [
    "inlet  = net.pores('left') \n",
    "outlet = net.pores(['right', 'top', 'bottom'])\n",
    "ad.set_value_BC(pores=inlet, values=100.0)\n",
    "ad.set_value_BC(pores=outlet, values=0.0)"
   ]
  },
  {
   "cell_type": "markdown",
   "metadata": {},
   "source": [
    "`set_value_BC` applies the so-called \"Dirichlet\" boundary condition to the specified pores. Note that unless you want to apply a single value to all of the specified pores (like we just did), you must pass a list (or `ndarray`) as the `values` parameter."
   ]
  },
  {
   "cell_type": "markdown",
   "metadata": {},
   "source": [
    "## Running the algorithm\n",
    "Now, it's time to run the algorithm. This is done by calling the `run` method attached to the algorithm object."
   ]
  },
  {
   "cell_type": "code",
   "execution_count": 104,
   "metadata": {},
   "outputs": [],
   "source": [
    "ad.run();"
   ]
  },
  {
   "cell_type": "markdown",
   "metadata": {},
   "source": [
    "# Post processing\n",
    "When an algorithm is successfully run, the results are attached to the same object. To access the results, you need to know the quantity for which the algorithm was solving. For instance, `AdvectionDiffusion` solves for the quantity `pore.concentration`, which is somewhat intuitive. However, if you ever forget it, or wanted to manually check the quantity, you can take a look at the algorithm `settings`:"
   ]
  },
  {
   "cell_type": "code",
   "execution_count": 105,
   "metadata": {},
   "outputs": [
    {
     "name": "stdout",
     "output_type": "stream",
     "text": [
      "――――――――――――――――――――――――――――――――――――――――――――――――――――――――――――――――――――――――――――――\n",
      "key                                 value\n",
      "――――――――――――――――――――――――――――――――――――――――――――――――――――――――――――――――――――――――――――――\n",
      "sources                             []\n",
      "tolerance                           0.001\n",
      "max_iter                            10000\n",
      "relaxation_source                   1\n",
      "relaxation_quantity                 1\n",
      "phase                               phase_01\n",
      "conductance                         None\n",
      "quantity                            pore.concentration\n",
      "solver                              spsolve\n",
      "prefix                              alg\n",
      "diffusive_conductance               throat.diffusive_conductance\n",
      "hydraulic_conductance               throat.hydraulic_conductance\n",
      "pressure                            pore.pressure\n",
      "s_scheme                            powerlaw\n",
      "t_scheme                            None\n",
      "――――――――――――――――――――――――――――――――――――――――――――――――――――――――――――――――――――――――――――――\n"
     ]
    }
   ],
   "source": [
    "print(ad.settings)"
   ]
  },
  {
   "cell_type": "markdown",
   "metadata": {},
   "source": [
    "Now that we know the quantity for which `AdvectionDiffusion` was solved, let's take a look at the results:"
   ]
  },
  {
   "cell_type": "code",
   "execution_count": 106,
   "metadata": {},
   "outputs": [
    {
     "name": "stdout",
     "output_type": "stream",
     "text": [
      "[   0.          100.          100.          100.          100.          100.\n",
      "  100.          100.          100.            0.            0.\n",
      "   75.60903407   86.22770115   91.78076354   91.85887006   88.72189804\n",
      "   84.28664691   76.243215     49.81288882    0.            0.\n",
      "   49.93724776   71.58487195   79.24519222   81.21469925   75.28152362\n",
      "   70.24355943   52.78642171   29.05090553    0.            0.\n",
      "   35.71510144   58.73879491   70.82759935   70.17372738   67.97609028\n",
      "   66.16467219   47.47483591   21.28520441    0.            0.\n",
      "   26.74522249   47.96679971   58.48653128   60.05368185   60.55898361\n",
      "   60.14398877   40.21124687   16.33190727    0.            0.\n",
      "   26.68065899   39.90793243   44.37476322   50.89989389   53.27428608\n",
      "   48.90901683   35.92037381   16.5143695     0.            0.\n",
      "   28.07640055   35.75609338   39.48716212   41.71278582   43.91368767\n",
      "   39.68583386   29.08888445   13.76877114    0.            0.\n",
      "   17.18332058   31.62501908   34.72762733   33.04166734   31.76196405\n",
      "   29.48729658   23.40731146    9.87876202    0.            0.\n",
      "    3.41908212   16.41229845   27.60574207   20.89907085   16.91255629\n",
      "   17.85697006   11.1810822     1.45922258    0.            0.            0.\n",
      "    0.            0.            0.            0.            0.            0.\n",
      "    0.            0.        ]\n"
     ]
    }
   ],
   "source": [
    "c = ad['pore.concentration']\n",
    "print(c)"
   ]
  },
  {
   "cell_type": "markdown",
   "metadata": {},
   "source": [
    "## Heatmap\n",
    "Well, it's hard to make sense out of a bunch of numbers! Let's visualize the results. Since the network is 2d, we can simply reshape the results in form of a 2d array similar to the shape of the network and plot the heatmap of it using `matplotlib`."
   ]
  },
  {
   "cell_type": "code",
   "execution_count": 107,
   "metadata": {},
   "outputs": [
    {
     "name": "stdout",
     "output_type": "stream",
     "text": [
      "Network shape: (1, 10, 10)\n"
     ]
    }
   ],
   "source": [
    "print('Network shape:', net._shape)\n",
    "c2d = c.reshape((net._shape))"
   ]
  },
  {
   "cell_type": "code",
   "execution_count": 108,
   "metadata": {},
   "outputs": [
    {
     "data": {
      "text/plain": [
       "<matplotlib.colorbar.Colorbar at 0x26bffb1f278>"
      ]
     },
     "execution_count": 108,
     "metadata": {},
     "output_type": "execute_result"
    },
    {
     "data": {
      "image/png": "[encoded data removed]",
      "text/plain": [
       "<Figure size 432x288 with 2 Axes>"
      ]
     },
     "metadata": {},
     "output_type": "display_data"
    }
   ],
   "source": [
    "import matplotlib.pyplot as plt\n",
    "plt.imshow(c2d[0,:,:])\n",
    "plt.title('Concentration (mol/m$^3$)')\n",
    "plt.colorbar()"
   ]
  }
 ],
 "metadata": {
  "kernelspec": {
   "display_name": "Python 3",
   "language": "python",
   "name": "python3"
  },
  "language_info": {
   "codemirror_mode": {
    "name": "ipython",
    "version": 3
   },
   "file_extension": ".py",
   "mimetype": "text/x-python",
   "name": "python",
   "nbconvert_exporter": "python",
   "pygments_lexer": "ipython3",
   "version": "3.6.5"
  }
 },
 "nbformat": 4,
 "nbformat_minor": 2
}
