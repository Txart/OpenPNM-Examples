{
 "cells": [
  {
   "cell_type": "code",
   "execution_count": 1,
   "metadata": {},
   "outputs": [
    {
     "name": "stderr",
     "output_type": "stream",
     "text": [
      "C:\\Users\\Tom\\Anaconda3\\lib\\site-packages\\h5py\\__init__.py:34: FutureWarning: Conversion of the second argument of issubdtype from `float` to `np.floating` is deprecated. In future, it will be treated as `np.float64 == np.dtype(float).type`.\n",
      "  from ._conv import register_converters as _register_converters\n"
     ]
    },
    {
     "name": "stdout",
     "output_type": "stream",
     "text": [
      "2.0.0-b\n"
     ]
    }
   ],
   "source": [
    "import openpnm as op\n",
    "import openpnm.models.geometry as gm\n",
    "import openpnm.models.misc as mm\n",
    "import openpnm.models.physics as pm\n",
    "import scipy as sp\n",
    "print(op.__version__)\n",
    "%matplotlib inline"
   ]
  },
  {
   "cell_type": "markdown",
   "metadata": {},
   "source": [
    "## Generate Two Networks with Different Spacing"
   ]
  },
  {
   "cell_type": "code",
   "execution_count": 2,
   "metadata": {
    "collapsed": true
   },
   "outputs": [],
   "source": [
    "spacing_lg = 0.00006\n",
    "layer_lg = op.network.Cubic(shape=[10, 10, 1], spacing=spacing_lg)"
   ]
  },
  {
   "cell_type": "code",
   "execution_count": 3,
   "metadata": {
    "collapsed": true
   },
   "outputs": [],
   "source": [
    "spacing_sm = 0.00002\n",
    "layer_sm = op.network.Cubic(shape=[30, 5, 1], spacing=spacing_sm)"
   ]
  },
  {
   "cell_type": "markdown",
   "metadata": {},
   "source": [
    "## Position Networks Appropriately, then Stitch Together"
   ]
  },
  {
   "cell_type": "code",
   "execution_count": 4,
   "metadata": {
    "collapsed": true
   },
   "outputs": [],
   "source": [
    "# Start by assigning labels to each network for identification later\n",
    "layer_sm['pore.small'] = True\n",
    "layer_sm['throat.small'] = True\n",
    "layer_lg['pore.large'] = True\n",
    "layer_lg['throat.large'] = True\n",
    "# Next manually offset CL one full thickness relative to the GDL\n",
    "layer_sm['pore.coords'] -= [0, spacing_sm*5, 0]\n",
    "layer_sm['pore.coords'] += [0, 0, spacing_lg/2 - spacing_sm/2]  # And shift up by 1/2 a lattice spacing\n",
    "# Finally, send both networks to stitch which will stitch CL onto GDL\n",
    "from openpnm.topotools import stitch\n",
    "stitch(network=layer_lg, donor=layer_sm,\n",
    "       P_network=layer_lg.pores('bottom'),\n",
    "       P_donor=layer_sm.pores('top'),\n",
    "       len_max=0.00005)\n",
    "combo_net = layer_lg\n",
    "combo_net.name = 'combo'"
   ]
  },
  {
   "cell_type": "markdown",
   "metadata": {},
   "source": [
    "## Create Geometry Objects for Each Layer"
   ]
  },
  {
   "cell_type": "code",
   "execution_count": 5,
   "metadata": {
    "collapsed": true
   },
   "outputs": [],
   "source": [
    "Ps = combo_net.pores('small')\n",
    "Ts = combo_net.throats('small')\n",
    "geom_sm = op.geometry.GenericGeometry(network=combo_net, pores=Ps, throats=Ts)\n",
    "Ps = combo_net.pores('large')\n",
    "Ts = combo_net.throats('small', mode='not')\n",
    "geom_lg = op.geometry.GenericGeometry(network=combo_net, pores=Ps, throats=Ts)"
   ]
  },
  {
   "cell_type": "markdown",
   "metadata": {},
   "source": [
    "### Add Geometrical Properties to the *Small* Domain\n",
    "The *small* domain will be treated as a continua, so instead of assigning pore sizes we want the 'pore' to be same size as the lattice cell. "
   ]
  },
  {
   "cell_type": "code",
   "execution_count": 6,
   "metadata": {
    "collapsed": true
   },
   "outputs": [],
   "source": [
    "geom_sm['pore.diameter'] = spacing_sm\n",
    "geom_sm['pore.area'] = spacing_sm**2\n",
    "geom_sm['throat.diameter'] = spacing_sm\n",
    "geom_sm['throat.area'] = spacing_sm**2\n",
    "geom_sm['throat.length'] = 1e-12  # A very small number to represent nearly 0-length"
   ]
  },
  {
   "cell_type": "markdown",
   "metadata": {},
   "source": [
    "### Add Geometrical Properties to the *Large* Domain"
   ]
  },
  {
   "cell_type": "code",
   "execution_count": 7,
   "metadata": {
    "collapsed": true
   },
   "outputs": [],
   "source": [
    "geom_lg['pore.diameter'] = spacing_lg*sp.rand(combo_net.num_pores('large'))\n",
    "geom_lg.add_model(propname='pore.area',\n",
    "                  model=gm.pore_area.sphere)\n",
    "geom_lg.add_model(propname='throat.diameter',\n",
    "                  model=mm.misc.from_neighbor_pores,\n",
    "                  pore_prop='pore.diameter', mode='min')\n",
    "geom_lg.add_model(propname='throat.area',\n",
    "                  model=gm.throat_area.cylinder)\n",
    "geom_lg.add_model(propname='throat.length',\n",
    "                  model=gm.throat_length.straight)"
   ]
  },
  {
   "cell_type": "markdown",
   "metadata": {},
   "source": [
    "## Create Phase and Physics Objects"
   ]
  },
  {
   "cell_type": "code",
   "execution_count": 8,
   "metadata": {
    "collapsed": true
   },
   "outputs": [],
   "source": [
    "air = op.phases.Air(network=combo_net, name='air')\n",
    "phys_lg = op.physics.GenericPhysics(network=combo_net, geometry=geom_lg, phase=air)\n",
    "phys_sm = op.physics.GenericPhysics(network=combo_net, geometry=geom_sm, phase=air)"
   ]
  },
  {
   "cell_type": "markdown",
   "metadata": {},
   "source": [
    "Add pore-scale models for diffusion to each Physics:"
   ]
  },
  {
   "cell_type": "code",
   "execution_count": 9,
   "metadata": {
    "collapsed": true
   },
   "outputs": [],
   "source": [
    "phys_lg.add_model(propname='throat.diffusive_conductance',\n",
    "                  model=pm.diffusive_conductance.ordinary_diffusion)\n",
    "phys_sm.add_model(propname='throat.diffusive_conductance',\n",
    "                  model=pm.diffusive_conductance.ordinary_diffusion)"
   ]
  },
  {
   "cell_type": "markdown",
   "metadata": {},
   "source": [
    "For the *small* layer we've used a normal diffusive conductance model, which when combined with the diffusion coefficient of air will be equivalent to open-air diffusion.  If we want the *small* layer to have some tortuosity we must account for this:"
   ]
  },
  {
   "cell_type": "code",
   "execution_count": 10,
   "metadata": {
    "collapsed": true
   },
   "outputs": [],
   "source": [
    "porosity = 0.5\n",
    "tortuosity = 2\n",
    "phys_sm['throat.diffusive_conductance'] *= (porosity/tortuosity)"
   ]
  },
  {
   "cell_type": "markdown",
   "metadata": {},
   "source": [
    "Note that this extra line is NOT a pore-scale model, so it will be over-written when the `phys_sm` object is regenerated."
   ]
  },
  {
   "cell_type": "markdown",
   "metadata": {},
   "source": [
    "### Add a Reaction Term to the Small Layer\n",
    "A standard n-th order chemical reaction is $ r=k \\cdot x^b $, or more generally: $ r = A_1 \\cdot x^{A_2} + A_3 $.  This model is available in `OpenPNM.Physics.models.generic_source_terms`, and we must specify values for each of the constants."
   ]
  },
  {
   "cell_type": "code",
   "execution_count": 11,
   "metadata": {
    "collapsed": true
   },
   "outputs": [],
   "source": [
    "# Set Source Term\n",
    "air['pore.A1'] = 1e-10  # Reaction pre-factor\n",
    "air['pore.A2'] = 2  # Reaction order\n",
    "air['pore.A3'] = 0  # A generic offset that is not needed so set to 0\n",
    "phys_sm.add_model(propname='pore.reaction',\n",
    "                  model=pm.generic_source_term.power_law,\n",
    "                  A1='pore.A1', A2='pore.A2', A3='pore.A3',\n",
    "                  X='pore.mole_fraction', \n",
    "                  regen_mode='deferred')"
   ]
  },
  {
   "cell_type": "markdown",
   "metadata": {},
   "source": [
    "## Perform a Diffusion Calculation"
   ]
  },
  {
   "cell_type": "code",
   "execution_count": 12,
   "metadata": {},
   "outputs": [
    {
     "name": "stdout",
     "output_type": "stream",
     "text": [
      "――――――――――――――――――――――――――――――――――――――――――――――――――――――――――――――――――――――――――――――――\n",
      "Running ReactiveTransport\n",
      "Tolerance not met: 250.00000000000546\n",
      "Tolerance not met: 150.58228149252304\n",
      "Tolerance not met: 40.42099719250953\n",
      "Tolerance not met: 11.322034967544244\n",
      "Tolerance not met: 3.19356188261721\n",
      "Tolerance not met: 0.7193028857755897\n",
      "Tolerance not met: 0.06508350599859196\n",
      "Solution converged: 0.0006611718537009011\n"
     ]
    }
   ],
   "source": [
    "Deff = op.algorithms.ReactiveTransport(network=combo_net, phase=air)\n",
    "Ps = combo_net.pores(['large', 'right'], mode='intersection')\n",
    "Deff.set_value_BC(pores=Ps, values=1)\n",
    "Ps = combo_net.pores('small')\n",
    "Deff.set_source(propname='pore.reaction', pores=Ps)\n",
    "Deff.settings['conductance'] = 'throat.diffusive_conductance'\n",
    "Deff.settings['quantity'] = 'pore.mole_fraction'\n",
    "Deff.run()"
   ]
  },
  {
   "cell_type": "markdown",
   "metadata": {},
   "source": [
    "## Visualize the Concentration Distribution"
   ]
  },
  {
   "cell_type": "markdown",
   "metadata": {},
   "source": [
    "Save the results to a VTK file for visualization in Paraview:"
   ]
  },
  {
   "cell_type": "code",
   "execution_count": 13,
   "metadata": {
    "collapsed": true
   },
   "outputs": [],
   "source": [
    "Deff.results()\n",
    "op.io.VTK.save(network=combo_net, phases=[air])"
   ]
  },
  {
   "cell_type": "markdown",
   "metadata": {},
   "source": [
    "And the result would look something like this:"
   ]
  },
  {
   "cell_type": "markdown",
   "metadata": {},
   "source": [
    "![](https://i.imgur.com/otsd6iX.png)"
   ]
  }
 ],
 "metadata": {
  "kernelspec": {
   "display_name": "Python 3",
   "language": "python",
   "name": "python3"
  },
  "language_info": {
   "codemirror_mode": {
    "name": "ipython",
    "version": 3
   },
   "file_extension": ".py",
   "mimetype": "text/x-python",
   "name": "python",
   "nbconvert_exporter": "python",
   "pygments_lexer": "ipython3",
   "version": "3.6.3"
  }
 },
 "nbformat": 4,
 "nbformat_minor": 2
}
