{
 "cells": [
  {
   "cell_type": "code",
   "execution_count": 25,
   "metadata": {},
   "outputs": [],
   "source": [
    "import sys\n",
    "sys.path.append('C:\\\\Users\\\\amin\\\\Documents\\\\Repos\\\\OpenPNM')"
   ]
  },
  {
   "cell_type": "markdown",
   "metadata": {},
   "source": [
    "# Relative Diffusivity\n",
    "\n",
    "## Generating the Network, adding Geometry and creating Phases\n",
    "\n",
    "This example shows you how to calculate a transport property relative to the saturation of the domain by a particular phase. In this case the property is the diffusivity of air relative to the saturation of water. Start by importing OpenPNM and some other useful packages:"
   ]
  },
  {
   "cell_type": "code",
   "execution_count": 26,
   "metadata": {},
   "outputs": [],
   "source": [
    "import openpnm\n",
    "import numpy as np\n",
    "import matplotlib.pyplot as plt"
   ]
  },
  {
   "cell_type": "markdown",
   "metadata": {},
   "source": [
    "Next create a **Network** object with a cubic topology and lattice spacing of 25 microns and add boundary pores"
   ]
  },
  {
   "cell_type": "code",
   "execution_count": 42,
   "metadata": {},
   "outputs": [],
   "source": [
    "pn = openpnm.network.Cubic(shape=[10, 10, 10], spacing=25e-6)\n",
    "pn.add_boundary_pores()"
   ]
  },
  {
   "cell_type": "markdown",
   "metadata": {},
   "source": [
    "Next create a **Geometry** to manage the pore and throat size information.  A **Geometry** can span over a part of the **Network** only, so we need to specify to which pores and throats this **Geometry** object should apply. For this example, we want one **Geometry** to apply to the internal pores and a different one to the boundary pores:"
   ]
  },
  {
   "cell_type": "code",
   "execution_count": 43,
   "metadata": {},
   "outputs": [],
   "source": [
    "Ps = pn.pores('*boundary', mode='not')\n",
    "Ts = pn.find_neighbor_throats(pores=Ps, mode='xnor')\n",
    "geom = openpnm.geometry.StickAndBall(network=pn, pores=Ps, throats=Ts)\n",
    "Ps = ~pn.tomask(pores=Ps)\n",
    "Ts = ~pn.tomask(throats=Ts)\n",
    "boun = openpnm.geometry.Boundary(network=pn, pores=Ps, throats=Ts)"
   ]
  },
  {
   "cell_type": "markdown",
   "metadata": {},
   "source": [
    "The ``StickAndBall`` **Geometry** is a predefined class that applies randomly distributed pore and throat sizes to the internal pores. The ``Boundary`` class is predefined with properties suitable for boundaries such as 0 volume and length.  "
   ]
  },
  {
   "cell_type": "markdown",
   "metadata": {},
   "source": [
    "We must also create the **Phase** objects, for our purposes the standard ``air`` and ``water`` phase classes provided are fine:"
   ]
  },
  {
   "cell_type": "code",
   "execution_count": 29,
   "metadata": {},
   "outputs": [],
   "source": [
    "air = openpnm.phases.Air(network=pn, name='air')\n",
    "water = openpnm.phases.Water(network=pn, name='water')"
   ]
  },
  {
   "cell_type": "markdown",
   "metadata": {},
   "source": [
    "## Define the Pore-Scale Physics\n",
    "\n",
    "For this simulation the **Standard** physics object can be used as it contains capillary pressure for use in the percolation algorithm and diffusive conductance for use in the ``FickianDiffusion`` algorithm."
   ]
  },
  {
   "cell_type": "code",
   "execution_count": 30,
   "metadata": {},
   "outputs": [],
   "source": [
    "phys_air = openpnm.physics.Standard(network=pn, phase=air, geometry=geom)\n",
    "phys_water = openpnm.physics.Standard(network=pn, phase=water, geometry=geom)"
   ]
  },
  {
   "cell_type": "markdown",
   "metadata": {},
   "source": [
    "## Set up and run the Percolation Algorithm\n",
    "In order to simulate a partially saturated material we first invade some non-wetting phase.  This will be accomplished using the ``InvasonPercolation`` **Algorithm** which invades the network with an invading phase based on the capillary pressure of the throats in the network. This gives us the sequence at which pores and throats are invaded.  "
   ]
  },
  {
   "cell_type": "code",
   "execution_count": 37,
   "metadata": {},
   "outputs": [
    {
     "name": "stderr",
     "output_type": "stream",
     "text": [
      "C:\\Users\\Jeff\\Anaconda3\\lib\\site-packages\\numpy\\lib\\scimath.py:120: RuntimeWarning: invalid value encountered in less\n",
      "  if any(isreal(x) & (x < 0)):\n",
      "c:\\users\\jeff\\dropbox\\flash sync\\code\\git\\openpnm\\openpnm\\algorithms\\OrdinaryPercolation.py:390: RuntimeWarning: invalid value encountered in less_equal\n",
      "  t_invaded = self['throat.entry_pressure'] <= inv_val\n"
     ]
    }
   ],
   "source": [
    "OP_1 = openpnm.algorithms.OrdinaryPercolation(network=pn)\n",
    "OP_1.setup(phase=water)\n",
    "OP_1.set_inlets(pn.pores('left_boundary'))\n",
    "OP_1.run()"
   ]
  },
  {
   "cell_type": "code",
   "execution_count": 38,
   "metadata": {},
   "outputs": [
    {
     "data": {
      "text/plain": [
       "array([31202.6468206 , 35165.84718674, 59238.46508728, ...,\n",
       "                  nan,            nan,            nan])"
      ]
     },
     "execution_count": 38,
     "metadata": {},
     "output_type": "execute_result"
    }
   ],
   "source": [
    "water['throat.entry_pressure']"
   ]
  },
  {
   "cell_type": "markdown",
   "metadata": {},
   "source": [
    "Here we have selected half of the boundary pores at the bottom of the domain as inlets for the percolation **Algorithm**. ``OrdinaryPercolation`` has a helpful plotting function which displays the saturation of the invading phase (volume fraction of the pore space) vs. capillary pressure: ```OP_1.plot_drainage_curve()```. The red line is pore saturation, blue is throat saturation and green is total saturation.\n",
    "\n",
    "![](http://imgur.com/o6zfY8p.png)\n",
    "\n",
    "> **Note** :  OpenPNM's Postprocessing module also has the ability to plot drainage curves and is suitable for use with the ``InvasionPercolation`` algorithm too.\n",
    "\n",
    "## Run a Fickian Diffusion Algorithm for each step of the invasion process\n",
    "\n",
    "We now need to model how the presence of the phases affects the diffusive conductivity of the network. Currently the **Physics** objects have a property called ``throat.diffusive_conductance`` but this model does not account for the occupancy of each phase and assumes that the phase occupies every pore-throat-pore conduit. OpenPNM has a number of multiphase models including a conduit conductance that multiplies the single phase conductance by a factor (default 0.000001) when the phase associated with the physics object is not present. The model has a mode which defaults to 'strict' which applies the conductivity reduction if any one of the connected pores or connecting throat is unoccupied."
   ]
  },
  {
   "cell_type": "code",
   "execution_count": 32,
   "metadata": {},
   "outputs": [
    {
     "name": "stderr",
     "output_type": "stream",
     "text": [
      "―――――――――――――――――――――――――――――――――――――――――――――――――――――――――――――――――――――――\n",
      "    ERROR: throat.conduit_diffusive_conductance was not run since the following properties are missing: ['throat.occupancy', 'pore.occupancy'] \n",
      "    SOURCE: openpnm.core.ModelsMixin._regen \n",
      "    TIME STAMP: 2018-09-27 22:05:57,869    \n",
      "―――――――――――――――――――――――――――――――――――――――――――――――――――――――――――――――――――――――\n",
      "    ERROR: throat.conduit_diffusive_conductance was not run since the following properties are missing: ['throat.occupancy', 'pore.occupancy'] \n",
      "    SOURCE: openpnm.core.ModelsMixin._regen \n",
      "    TIME STAMP: 2018-09-27 22:05:57,873    \n"
     ]
    }
   ],
   "source": [
    "import openpnm.models.physics as pm\n",
    "phys_air.add_model(model=pm.multiphase.conduit_conductance,\n",
    "                   propname='throat.conduit_diffusive_conductance',\n",
    "                   throat_conductance='throat.diffusive_conductance')\n",
    "phys_water.add_model(model=pm.multiphase.conduit_conductance,\n",
    "                     propname='throat.conduit_diffusive_conductance',\n",
    "                     throat_conductance='throat.diffusive_conductance')"
   ]
  },
  {
   "cell_type": "markdown",
   "metadata": {},
   "source": [
    "Now we create some variables to store our data in for each principle direction (x, y, z). The boundary planes at each side of the domain are used as boundary pores for the Diffusion algorithm."
   ]
  },
  {
   "cell_type": "code",
   "execution_count": 33,
   "metadata": {},
   "outputs": [],
   "source": [
    "bounds = [['front', 'back'], ['left', 'right'], ['top', 'bottom']]\n",
    "diff_air = {'0': [], '1': [], '2': []}\n",
    "diff_water = {'0': [], '1': [], '2': []}\n",
    "sat= []\n",
    "tot_vol = np.sum(pn[\"pore.volume\"]) + np.sum(pn[\"throat.volume\"])"
   ]
  },
  {
   "cell_type": "markdown",
   "metadata": {},
   "source": [
    "Now for each invasion step we cycle through the principle directions and create ``FickianDiffusion`` objects for each phase and calculate the effective diffusivity."
   ]
  },
  {
   "cell_type": "code",
   "execution_count": 34,
   "metadata": {},
   "outputs": [
    {
     "ename": "KeyError",
     "evalue": "'pore.inv_Pc'",
     "output_type": "error",
     "traceback": [
      "\u001b[1;31m---------------------------------------------------------------------------\u001b[0m",
      "\u001b[1;31mKeyError\u001b[0m                                  Traceback (most recent call last)",
      "\u001b[1;32m<ipython-input-34-4d6df75a253a>\u001b[0m in \u001b[0;36m<module>\u001b[1;34m()\u001b[0m\n\u001b[1;32m----> 1\u001b[1;33m \u001b[1;32mfor\u001b[0m \u001b[0mPc\u001b[0m \u001b[1;32min\u001b[0m \u001b[0mnp\u001b[0m\u001b[1;33m.\u001b[0m\u001b[0munique\u001b[0m\u001b[1;33m(\u001b[0m\u001b[0mOP_1\u001b[0m\u001b[1;33m[\u001b[0m\u001b[1;34m'pore.inv_Pc'\u001b[0m\u001b[1;33m]\u001b[0m\u001b[1;33m)\u001b[0m\u001b[1;33m:\u001b[0m\u001b[1;33m\u001b[0m\u001b[0m\n\u001b[0m\u001b[0;32m      2\u001b[0m     \u001b[0mOP_1\u001b[0m\u001b[1;33m.\u001b[0m\u001b[0mreturn_results\u001b[0m\u001b[1;33m(\u001b[0m\u001b[0mPc\u001b[0m\u001b[1;33m=\u001b[0m\u001b[0mPc\u001b[0m\u001b[1;33m)\u001b[0m\u001b[1;33m\u001b[0m\u001b[0m\n\u001b[0;32m      3\u001b[0m     \u001b[0mphys_air\u001b[0m\u001b[1;33m.\u001b[0m\u001b[0mregenerate\u001b[0m\u001b[1;33m(\u001b[0m\u001b[1;33m)\u001b[0m\u001b[1;33m\u001b[0m\u001b[0m\n\u001b[0;32m      4\u001b[0m     \u001b[0mphys_water\u001b[0m\u001b[1;33m.\u001b[0m\u001b[0mregenerate\u001b[0m\u001b[1;33m(\u001b[0m\u001b[1;33m)\u001b[0m\u001b[1;33m\u001b[0m\u001b[0m\n\u001b[0;32m      5\u001b[0m     \u001b[0mthis_sat\u001b[0m \u001b[1;33m=\u001b[0m \u001b[1;36m0\u001b[0m\u001b[1;33m\u001b[0m\u001b[0m\n",
      "\u001b[1;31mKeyError\u001b[0m: 'pore.inv_Pc'"
     ]
    }
   ],
   "source": [
    "for Pc in np.unique(OP_1['pore.inv_Pc']):\n",
    "    OP_1.return_results(Pc=Pc)\n",
    "    phys_air.regenerate()\n",
    "    phys_water.regenerate()\n",
    "    this_sat = 0\n",
    "    this_sat += np.sum(pn[\"pore.volume\"][water[\"pore.occupancy\"] == 1])\n",
    "    this_sat += np.sum(pn[\"throat.volume\"][water[\"throat.occupancy\"] == 1])\n",
    "    sat.append(this_sat)\n",
    "    for bound_increment in range(len(bounds)):\n",
    "        BC1_pores = pn.pores(labels=bounds[bound_increment][0]+'_boundary')\n",
    "        BC2_pores = pn.pores(labels=bounds[bound_increment][1]+'_boundary')\n",
    "        FD_1 = OpenPNM.Algorithms.FickianDiffusion(network=pn, phase=air)\n",
    "        FD_1.set_boundary_conditions(bctype='Dirichlet', bcvalue=0.6,\n",
    "                                     pores=BC1_pores)\n",
    "        FD_1.set_boundary_conditions(bctype='Dirichlet', bcvalue=0.2,\n",
    "                                     pores=BC2_pores)\n",
    "        FD_1.run(conductance='conduit_diffusive_conductance')\n",
    "        eff_diff = FD_1.calc_eff_diffusivity()\n",
    "        diff_air[str(bound_increment)].append(eff_diff)\n",
    "        FD_2 = OpenPNM.Algorithms.FickianDiffusion(network=pn, phase=water)\n",
    "        FD_2.set_boundary_conditions(bctype='Dirichlet', bcvalue=0.6,\n",
    "                                     pores=BC1_pores)\n",
    "        FD_2.set_boundary_conditions(bctype='Dirichlet', bcvalue=0.2,\n",
    "                                     pores=BC2_pores)\n",
    "        FD_2.run(conductance='conduit_diffusive_conductance')\n",
    "        eff_diff = FD_2.calc_eff_diffusivity()\n",
    "        diff_water[str(bound_increment)].append(eff_diff)\n",
    "        workspace.purge_object(FD_1)\n",
    "        workspace.purge_object(FD_2)"
   ]
  },
  {
   "cell_type": "markdown",
   "metadata": {},
   "source": [
    "The ```return_results``` method updates the two **Phase** objects with the occupancy at the given capillary pressure (Pc). The **Physics** objects are then regenerated to re-calculate the ```conduit_diffusive_conductance``` property.\n",
    "\n",
    "> **Note** :  Six Diffusion algorithm objects could have been created outside the loop and then run over and over with the updated conductance values and this would possibly save some computational time but is not as nice to code. Instead the objects are purged and redefined with updated boundary pores inside another for loop.\n",
    "\n",
    "## Plot the Relative Diffusivity Curves for each direction and Phase\n",
    "\n",
    "Now tidy up the data converting them into Numpy arrays for easy plotting and manipulation and normalize the results by the single phase values:"
   ]
  },
  {
   "cell_type": "code",
   "execution_count": null,
   "metadata": {},
   "outputs": [],
   "source": [
    "sat=np.asarray(sat)\n",
    "sat /= tot_vol\n",
    "rel_diff_air_x    =  np.asarray(diff_air['0'])\n",
    "rel_diff_air_x   /=  rel_diff_air_x[0]\n",
    "rel_diff_air_y    =  np.asarray(diff_air['1'])\n",
    "rel_diff_air_y   /=  rel_diff_air_y[0]\n",
    "rel_diff_air_z    =  np.asarray(diff_air['2'])\n",
    "rel_diff_air_z   /=  rel_diff_air_z[0]\n",
    "rel_diff_water_x  =  np.asarray(diff_water['0'])\n",
    "rel_diff_water_x /=  rel_diff_water_x[-1]\n",
    "rel_diff_water_y  =  np.asarray(diff_water['1'])\n",
    "rel_diff_water_y /=  rel_diff_water_y[-1]\n",
    "rel_diff_water_z  =  np.asarray(diff_water['2'])\n",
    "rel_diff_water_z /=  rel_diff_water_z[-1]"
   ]
  },
  {
   "cell_type": "markdown",
   "metadata": {},
   "source": [
    "Finally plot the results:"
   ]
  },
  {
   "cell_type": "code",
   "execution_count": null,
   "metadata": {},
   "outputs": [],
   "source": [
    "[lt.ioff()  # Turn off automatic plotting\n",
    "fig = plt.figure()\n",
    "ax = fig.gca()\n",
    "plots=[]\n",
    "plots.append(plt.plot(sat,rel_diff_air_x,'^-r',label='Dra_x'))\n",
    "plots.append(plt.plot(sat,rel_diff_air_y,'^-g',label='Dra_y'))\n",
    "plots.append(plt.plot(sat,rel_diff_air_z,'^-b',label='Dra_z'))\n",
    "plots.append(plt.plot(sat,rel_diff_water_x,'*-r',label='Drw_x'))\n",
    "plots.append(plt.plot(sat,rel_diff_water_y,'*-g',label='Drw_y'))\n",
    "plots.append(plt.plot(sat,rel_diff_water_z,'*-b',label='Drw_z'))\n",
    "h = plt.xlabel('Liquid Water Saturation')\n",
    "h = plt.ylabel('Relative Diffusivity')\n",
    "handles, labels = ax.get_legend_handles_labels()\n",
    "h = ax.legend(handles, labels,loc=1)\n",
    "box = ax.get_position()\n",
    "h = ax.set_position([box.x0, box.y0, box.width * 0.9, box.height])\n",
    "h = ax.legend(loc='center left', bbox_to_anchor=(1, 0.5))"
   ]
  },
  {
   "cell_type": "markdown",
   "metadata": {},
   "source": [
    "Finally, to draw the plot type ``fig.canvas.draw_idle()`` to get the following:\n",
    "\n",
    "![](http://imgur.com/hEGXVyp.png)"
   ]
  }
 ],
 "metadata": {
  "kernelspec": {
   "display_name": "Python 3",
   "language": "python",
   "name": "python3"
  },
  "language_info": {
   "codemirror_mode": {
    "name": "ipython",
    "version": 3
   },
   "file_extension": ".py",
   "mimetype": "text/x-python",
   "name": "python",
   "nbconvert_exporter": "python",
   "pygments_lexer": "ipython3",
   "version": "3.6.5"
  }
 },
 "nbformat": 4,
 "nbformat_minor": 2
}
